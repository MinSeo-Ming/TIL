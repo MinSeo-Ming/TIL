from google.colab import drive 
drive.mount('/gdrive')
%cd /gdrive/MyDrive/ImageProcClass/Notebook-Week05/

#%%

import matplotlib.pyplot as plt
import matplotlib.cm as cm
import cv2
import numpy as np
colors ={'blue':(255,0,0),'green':(0,255,0),'green':(0,255,0),'yellow':(0,255,255),
         'magenta':(255,0,255),'cyan':(255,255,0),'white':(255,255,255),'black':(0,0,0),
         'gray':(125,125,125),'rand':np.random.randint(0,high=256,size=(3,)).tolist(),
         'dark_gray':(50,50,50),'light_gray':(220,220,220)}
def show_image(img, title):
  img_RGB = img[:, :, ::-1]

  plt.imshow(img_RGB)
  plt.title(title)
  plt.show()

#%%

 test_image = np.zeros((300,300,3),dtype=np.uint8)
 test_image[:] = colors['light_gray']
 show_image(test_image, 'test')


#%%

cv2.line(test_image,(0,0),(300,300),colors['green'],3)
cv2.rectangle(test_image,(0,0),(100,100),colors['blue'],3)
show_image(test_image,"make")

#%%

ret,p1,p2= cv2.clipLine((0,0,100,100),(0,0),(300,300))

if ret:
  cv2.line(test_image,p1,p2,colors['yellow'],3)

show_image(test_image,'clip')
print(ret,p1,p2)

#%%

 test_image2 = np.zeros((300,300,3),dtype=np.uint8)
 test_image2[:] = colors['light_gray']


 ret,p1,p2= cv2.clipLine((0,0,100,100),(0,0),(50,50))
if ret:
  cv2.line(test_image2,p1,p2,colors['yellow'],3)

show_image(test_image2,'line is short')
print(ret,p1,p2)
