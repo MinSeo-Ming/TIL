{
  "nbformat": 4,
  "nbformat_minor": 0,
  "metadata": {
    "colab": {
      "name": "2021-1-ImgProc-HW9-조민서-32174224.ipynb",
      "provenance": [],
      "collapsed_sections": []
    },
    "kernelspec": {
      "name": "python3",
      "display_name": "Python 3"
    }
  },
  "cells": [
    {
      "cell_type": "markdown",
      "metadata": {
        "id": "iFMMaYdIa963"
      },
      "source": [
        "## 영상정보처리 9주차 과제 템플리트\n",
        "- 점수: 10점 만점\n",
        "-- 일부만 찾은 경우 5점, 다 찾으면 10점\n",
        "- 이미지 경로 잘못 사용한 경우: -3\n",
        "- 소스 이미지: \n",
        "1. messi5.jpg - 샘플 검출 대상 이미지\n",
        "2. messi5_shirt_blue.png - 셔츠의 파란 부분\n",
        "3. messi5_shirt_red.png  - 셔츠의 붉은 부분\n",
        "    \n",
        "\n",
        "이름: 조민서            \n",
        "학번: 32174224\n"
      ]
    },
    {
      "cell_type": "markdown",
      "metadata": {
        "id": "nVfBg6HmbGT1"
      },
      "source": [
        "# 구글 드라이브 마우팅 및 작업 경로로 이동\n",
        "- 다음 쉘에 필요한 작업을 하시오. "
      ]
    },
    {
      "cell_type": "code",
      "metadata": {
        "id": "pWBEPPA8bR8e",
        "colab": {
          "base_uri": "https://localhost:8080/"
        },
        "outputId": "7b34ab2f-c83c-46e6-8563-3bbb801f0b98"
      },
      "source": [
        "from google.colab import drive \n",
        "drive.mount('/gdrive')\n",
        "%cd /gdrive/MyDrive/ImageProcClass/Notebook-Week09/"
      ],
      "execution_count": 1,
      "outputs": [
        {
          "output_type": "stream",
          "text": [
            "Drive already mounted at /gdrive; to attempt to forcibly remount, call drive.mount(\"/gdrive\", force_remount=True).\n",
            "/gdrive/MyDrive/ImageProcClass/Notebook-Week09\n"
          ],
          "name": "stdout"
        }
      ]
    },
    {
      "cell_type": "markdown",
      "metadata": {
        "id": "WlxzHJVSbsRt"
      },
      "source": [
        "다음의 경로는 변경하지 말것. 만일 해당 이미지가 없는 경우, 같이 업로드한 이미지를 해당 폴더에 저장해서 사용할 것. "
      ]
    },
    {
      "cell_type": "code",
      "metadata": {
        "id": "t1q-IRqiacwf"
      },
      "source": [
        "import cv2\n",
        "import numpy as np\n",
        "import matplotlib.pyplot as plt\n",
        "\n",
        "src_image_path = '../Dongkeun-OpenCV-ImgData/messi5.jpg'\n",
        "red_roi_image_path = '../Dongkeun-OpenCV-ImgData/messi5_shirt_red.png'\n",
        "blue_roi_image_path = '../Dongkeun-OpenCV-ImgData/messi5_shirt_blue.png'\n",
        "\n",
        "def show_with_matplotlib(img, title):\n",
        "    \"\"\"Shows an image using matplotlib capabilities\"\"\"\n",
        "    if img is None:\n",
        "      print(\"show_with_matplotlib: Could not read the image.\")\n",
        "      return\n",
        "\n",
        "    if img.shape[2] != 3:\n",
        "      print()\n",
        "      print(\"show_with_matplotlib: given image does not contains 3 channels\")\n",
        "      return\n",
        "\n",
        "    # Convert BGR image to RGB:\n",
        "    img_RGB = img[:, :, ::-1]\n",
        "\n",
        "    # Show the image using matplotlib:\n",
        "    plt.imshow(img_RGB)\n",
        "    plt.title(title)\n",
        "    plt.show()\n"
      ],
      "execution_count": 2,
      "outputs": []
    },
    {
      "cell_type": "markdown",
      "metadata": {
        "id": "cvZkFU3xdJAt"
      },
      "source": [
        "##문제 1:\n",
        "\n",
        "위에서 언급한 src_image_path 의 이미지 부분 중에서 셔츠 부분을 검출하는 것이 최종 목표이며, 결과 이미지에는 해당 영역의 3-채널 영상 부분이 담겨 있어야 한다. \n",
        "방법은 수업 동영상에 설명한 histgram backprojection 을 사용하며, 구체적 단계는 강의 동영상을 참조한다. red_roi_image_path 와 blue_roi_image_path 를 검출 대상에 히스토그램 작성에 사용한다. \n",
        "\n",
        "\n",
        "\n",
        "\n"
      ]
    },
    {
      "cell_type": "code",
      "metadata": {
        "id": "MMES_Tx7bvvL"
      },
      "source": [
        "#이미지 읽어오기\n",
        "red_roi = cv2.imread(red_roi_image_path)\n",
        "blue_roi = cv2.imread(blue_roi_image_path)\n",
        "target = cv2.imread(src_image_path)\n",
        "\n",
        "#이미지들 채널 변경\n",
        "red_hsv = cv2.cvtColor(red_roi,cv2.COLOR_BGR2HSV)\n",
        "blue_hsv = cv2.cvtColor(blue_roi,cv2.COLOR_BGR2HSV)\n",
        "target_hsv = cv2.cvtColor(target,cv2.COLOR_BGR2HSV)"
      ],
      "execution_count": 3,
      "outputs": []
    },
    {
      "cell_type": "code",
      "metadata": {
        "id": "5DFVl2KOaPCa"
      },
      "source": [
        "#상의 부분문 mask생성\n",
        "# mask = target_hsv[100:250,150:330]\n",
        "\n",
        "#histogram만들기\n",
        "red_roihist = cv2.calcHist([red_hsv],[0,1],None,[180,256],[0,180,0,255])\n",
        "blue_roihist = cv2.calcHist([blue_hsv],[0,1],None,[180,256],[0,180,0,255])\n",
        "\n",
        "#정규화와 backproject하기 \n",
        "cv2.normalize(red_roihist,red_roihist,0,255,cv2.NORM_MINMAX)\n",
        "cv2.normalize(blue_roihist,blue_roihist,0,255,cv2.NORM_MINMAX)\n",
        "\n",
        "dst_red = cv2.calcBackProject([target_hsv],[0,1],red_roihist,[0,180,0,255],1)\n",
        "dst_blue = cv2.calcBackProject([target_hsv],[0,1],blue_roihist,[0,180,0,255],1)\n",
        "\n",
        "#상의 부분만 정규화 backproject할때\n",
        "# dst_red = cv2.calcBackProject([mask],[0,1],red_roihist,[0,180,0,255],2)\n",
        "# dst_blue = cv2.calcBackProject([mask],[0,1],blue_roihist,[0,180,0,255],1)"
      ],
      "execution_count": 4,
      "outputs": []
    },
    {
      "cell_type": "code",
      "metadata": {
        "colab": {
          "base_uri": "https://localhost:8080/",
          "height": 273
        },
        "id": "XWjlyn1wbcpF",
        "outputId": "a537f926-8d9a-47bb-d089-2a68f1155050"
      },
      "source": [
        "#원하는 근처값들 뭉치기\n",
        "disc_red= cv2.getStructuringElement(cv2.MORPH_ELLIPSE,(6,6))\n",
        "cv2.filter2D(dst_red,-1,disc_red,dst_red)\n",
        "disc_blue= cv2.getStructuringElement(cv2.MORPH_ELLIPSE,(5,5))\n",
        "cv2.filter2D(dst_blue,-1,disc_blue,dst_blue)\n",
        "\n",
        "#빨강 부분과 파란 부분 합치기\n",
        "dst = cv2.add(dst_red,dst_blue)\n",
        "\n",
        "#배경 이미지 -> 상의만 부분 추출할경우\n",
        "# back_g = np.zeros(target.shape,dtype =\"uint8\")\n",
        "\n",
        "#이미지들 추출한거 원래 색 입히기\n",
        "thresh = cv2.threshold(dst,50,255,0)[1]\n",
        "thresh_3ch = cv2.merge((thresh,thresh,thresh))\n",
        "\n",
        "result_temp = cv2.bitwise_and(target,thresh_3ch)\n",
        "\n",
        "#원본 이미지와 위치같게 만들기 -> 상의 부분만 할때\n",
        "# back_g[100:250,150:330] =thresh_3ch\n",
        "# result_temp = cv2.bitwise_and(target,back_g)\n",
        "\n",
        "show_with_matplotlib(result_temp,\"Messi's red& blue spots\")"
      ],
      "execution_count": 5,
      "outputs": [
        {
          "output_type": "display_data",
          "data": {
            "image/png": "[encoded data removed]",
            "text/plain": [
              "<Figure size 432x288 with 1 Axes>"
            ]
          },
          "metadata": {
            "tags": [],
            "needs_background": "light"
          }
        }
      ]
    }
  ]
}