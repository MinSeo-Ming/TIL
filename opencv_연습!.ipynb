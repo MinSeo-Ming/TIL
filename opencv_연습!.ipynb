{
 "nbformat": 4,
 "nbformat_minor": 0,
 "metadata": {
  "colab": {
   "name": "2021-1-ImgProc-HW4-조민서-32174224.ipynb",
   "provenance": [],
   "collapsed_sections": []
  },
  "kernelspec": {
   "name": "python3",
   "display_name": "Python 3"
  }
 },
 "cells": [
  {
   "cell_type": "markdown",
   "metadata": {
    "id": "7m6QNVZQQ-lh"
   },
   "source": []
  },
  {
   "cell_type": "code",
   "metadata": {
    "id": "791T0SqaHngL",
    "colab": {
     "base_uri": "https://localhost:8080/",
     "height": 0
    },
    "outputId": "6e895f4d-5d5e-4678-dcdb-0d1a99292c4c"
   },
   "source": [
    "from google.colab import drive \n",
    "drive.mount('/gdrive')"
   ],
   "execution_count": 40,
   "outputs": [
    {
     "output_type": "stream",
     "text": [
      "Drive already mounted at /gdrive; to attempt to forcibly remount, call drive.mount(\"/gdrive\", force_remount=True).\n"
     ],
     "name": "stdout"
    }
   ]
  },
  {
   "cell_type": "code",
   "metadata": {
    "colab": {
     "base_uri": "https://localhost:8080/",
     "height": 0
    },
    "id": "TS9x8dYBlSDv",
    "outputId": "9d7aee60-f60b-4825-fc96-74ae47d4cfc6"
   },
   "source": [
    "% cd /gdrive/MyDrive/ImageProcClass/Notebook-Week04/"
   ],
   "execution_count": 41,
   "outputs": [
    {
     "output_type": "stream",
     "text": [
      "/gdrive/MyDrive/ImageProcClass/Notebook-Week04\n"
     ],
     "name": "stdout"
    }
   ]
  },
  {
   "cell_type": "markdown",
   "metadata": {
    "id": "3zS1iBGrH0Rj"
   },
   "source": [
    "Souce image 는 다음의 image_path 를 변경하지 말고 이용할 것. 경로가 다른 경우 감점 -3"
   ]
  },
  {
   "cell_type": "code",
   "metadata": {
    "id": "h-obB5qQHu0G"
   },
   "source": [
    "image_path = '../Dongkeun-OpenCV-ImgData/logo.png' "
   ],
   "execution_count": 42,
   "outputs": []
  },
  {
   "cell_type": "markdown",
   "metadata": {
    "id": "rCjnSlTRILjW"
   },
   "source": [
    "## 문제 1: 부분 이미지를 이용한 이미지 생성\n",
    "\n",
    "1. 위의 이미지 경로를 이용하여 이미지를 컬러 이미지 org_image 로 읽기\n",
    "2. 읽은 이미지와 동일 크기의 컬러 이미지를 new_image1 로 만들기 \n",
    "3. new_image1 를 x 축 방향으로 4등분하고 왼쪽부터 subimage 1, 2, 3, 4 라고 할때 다음과 같이 new_image1을 구성하기 \n",
    "  - x 축값이 4등분하여 4개의 영역이 동일 크기가 되지 않는 경우, 맨 오른쪽 영역에는 남는 크기 배분\n",
    "  - subimage 1: 동일 영역에 해당하는 org_image 부분 복사하기 \n",
    "  - subimage 2: 동일 영역에 해당하는 org_image 부분에서 Red 성분만 복사하고, green/blue 부분은 0으로 하여 subimage 2에 채워 넣을 것\n",
    "  - subimage 3: 동일 영역에 해당하는 org_image 부분에서 Blue 성분만 복사하고, green/red 부분은 0으로 하여 subimage 3에 채워 넣을 것\n",
    "  - subimage 4: 동일 영역에 해당하는 org_image 부분에서 Green 성분만 복사하고, blue/red 부분은 0으로 하여 subimage 4에 채워 넣을 것\n",
    "\n",
    "4. new_image1 을 디스플레이하기 "
   ]
  },
  {
   "cell_type": "code",
   "metadata": {
    "id": "wP0-d9HwQ2Ns",
    "colab": {
     "base_uri": "https://localhost:8080/",
     "height": 269
    },
    "outputId": "2b02a712-9f0e-485d-a251-3dba76a31db1"
   },
   "source": [
    "import matplotlib.pyplot as plt\n",
    "import matplotlib.cm as cm\n",
    "import cv2\n",
    "import numpy as np\n",
    "\n",
    "#1. 위의 이미지 경로를 이용하여 컬러 이미지 읽기\n",
    "org_image = cv2.imread(image_path)\n",
    "b,g,r = cv2.split(org_image)\n",
    "height,org_width, channel = org_image.shape\n",
    "\n",
    "#2.읽은 이미지와 동일 크기의 컬러 이미지를 new_image1 로 만들기-> 임의의 숫자로 컬러 이미지 생성함\n",
    "new_image1 = np.full((height,org_width,channel),130, dtype=np.uint8)\n",
    "\n",
    "#3. new_image1 를 x 축 방향으로 4등분하고 왼쪽부터 subimage 1, 2, 3, 4 라고 할때 다음과 같이 new_image1을 구성하기\n",
    "\n",
    "#x축 방향으로 4등분하기\n",
    "width = org_width//4\n",
    "#org_image를 가지고 변형하는것이기에 org_image를 복사하여 진행하는게 쉽다 생각하여 복사함\n",
    "new_image1 = org_image.copy()\n",
    "\n",
    "#3-1. subimage 1 : \n",
    "#3-2. subimage 2 : Red만 \n",
    "new_image1 [:, width:width*2, 0] =0\n",
    "new_image1 [:, width:width*2, 1] =0\n",
    "\n",
    "#3-3. subimage 3 : Bule만 \n",
    "new_image1 [:, width*2:width*3, 1] =0\n",
    "new_image1 [:, width*2:width*3, 2] =0\n",
    "\n",
    "#3-4. subimage 4 : Green 만 \n",
    "new_image1 [:, width*3:, 0] =0\n",
    "new_image1 [:, width*3:, 2] =0\n",
    "\n",
    "#4. new_image1 을 디스플레이하기\n",
    "b,g,r = cv2.split(new_image1)\n",
    "new_image1 = cv2.merge([r,g,b])\n",
    "plt.imshow(new_image1)\n",
    "plt.show()"
   ],
   "execution_count": 43,
   "outputs": [
    {
     "output_type": "display_data",
     "data": {
      "image/png": "[encoded data removed]",
      "text/plain": [
       "<Figure size 432x288 with 1 Axes>"
      ]
     },
     "metadata": {
      "tags": [],
      "needs_background": "light"
     }
    }
   ]
  },
  {
   "cell_type": "markdown",
   "metadata": {
    "id": "kdBa1jzBx5cw"
   },
   "source": [
    ""
   ]
  },
  {
   "cell_type": "markdown",
   "metadata": {
    "id": "nfj3-xj8KAUc"
   },
   "source": [
    "## 문제 2: 식을 이용한 grayscale 이미지 만들기 \n",
    "\n",
    "1. org_image와 같은 크기의 공백 grayscale 이미지 new_image2 만들기\n",
    "2. org_image 의 각 화소를 접근하여 강의에서 설명한 공식을 사용하여 grayscale 값으로 변환하여 새로운 그레이스케일 이미지 new_image2 에 저장하기\n",
    "2. new_image2 디스플레이하기 \n",
    "\n",
    "[참조] https://stackoverflow.com/questions/17615963/standard-rgb-to-grayscale-conversion\n",
    "\n"
   ]
  },
  {
   "cell_type": "code",
   "metadata": {
    "id": "x_C54G9QKrMQ",
    "colab": {
     "base_uri": "https://localhost:8080/",
     "height": 269
    },
    "outputId": "22685945-f2d6-46c3-9c24-d6777c0ff631"
   },
   "source": [
    "#1 org_image와 같은 크기의 공백 grayscale 이미지 new_image2 만들기\n",
    "new_image2 = np.zeros((height, org_width,),dtype=np.uint8)\n",
    "\n",
    "\n",
    "#2.org_image 의 각 화소를 접근하여  grayscale 값으로 변환하여 새로운 그레이스케일 이미지 new_image2 에 저장하기\n",
    "for y in range(height):\n",
    "  for x in range(org_width):\n",
    "    B,G,R = org_image[y,x]\n",
    "    gray = 0.299 * R + 0.587 *G + 0.114 *B\n",
    "    #grayscale이라\n",
    "    new_image2 [y, x] = gray\n",
    "\n",
    "\n",
    "#3. new_image2 디스플레이하기\n",
    "plt.imshow(new_image2, cmap=\"gray\")\n",
    "plt.show()\n",
    "\n",
    "# 추가 생각한것..(?) 화소를 하나하나 접근하지 않고도\n",
    "# 아래에 한번에 바뀌는걸 이렇게 할 수 있음! -> 문제가 있으니까 이렇게 안하는 거겠지???\n",
    "# R,G,B = cv2.split(org_image)\n",
    "# new_image2 = ((0.299 * R) + (0.587 *G) + (0.114 *B))"
   ],
   "execution_count": 44,
   "outputs": [
    {
     "output_type": "display_data",
     "data": {
      "image/png": "[encoded data removed]",
      "text/plain": [
       "<Figure size 432x288 with 1 Axes>"
      ]
     },
     "metadata": {
      "tags": [],
      "needs_background": "light"
     }
    }
   ]
  }
 ]
}